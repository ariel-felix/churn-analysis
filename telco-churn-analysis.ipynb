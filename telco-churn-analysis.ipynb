{
 "cells": [
  {
   "cell_type": "markdown",
   "id": "173d1924",
   "metadata": {},
   "source": [
    "# Análisis de Churn en el Sector de Telecomunicaciones – Telco Churn"
   ]
  },
  {
   "cell_type": "markdown",
   "id": "11b8342d",
   "metadata": {},
   "source": [
    "### Introducción\n",
    "\n",
    "Imagina que eres el gerente de una gran empresa de telecomunicaciones. Cada mes, nuevos clientes llegan y se suscriben a sus servicios, pero, al mismo tiempo, otros deciden cancelar sus suscripciones y cambiarse a la competencia. ¿Qué hace que un cliente siga siendo fiel? Y, más importante, ¿qué lleva a alguien a abandonar la empresa?\n",
    "\n",
    "Este fenómeno se conoce como churn, uno de los indicadores más críticos para cualquier negocio basado en suscripciones o pagos recurrentes. Dado que el churn impacta directamente en los ingresos, comprender sus causas y cómo reducirlo es esencial para el éxito de la empresa. Disminuir esta métrica no solo significa mantener activa la base de clientes, sino también mejorar la previsibilidad de los ingresos y fortalecer la competitividad en el mercado.\n",
    "\n",
    "Además, al analizar el churn, podemos identificar patrones y problemas específicos, como fallos en la integración, deficiencias en el soporte al cliente o características del producto que no satisfacen las necesidades de los usuarios.\n",
    "\n",
    "En este proyecto, realizaremos un análisis para comprender mejor el comportamiento de los clientes y los motivos que los llevan a cancelar el servicio. Nuestro objetivo es responder dos preguntas esenciales:\n",
    "\n",
    "✅ ¿Cuál es el perfil de los clientes de la empresa?\n",
    "Mapear las principales características de los clientes, como edad, género, estado civil y presencia de dependientes, para entender mejor quiénes son los consumidores del servicio.\n",
    "\n",
    "✅ ¿Qué factores influyen en la cancelación del servicio?\n",
    "Investigar variables como el tiempo de permanencia, el método de pago y el monto gastado para identificar patrones que contribuyen al churn, permitiendo implementar estrategias para aumentar la retención.\n",
    "\n",
    "A través del análisis exploratorio de datos y visualizaciones, extraeremos conocimientos valiosos para respaldar decisiones estratégicas y mejorar la retención de clientes."
   ]
  },
  {
   "cell_type": "markdown",
   "id": "817dfcc4",
   "metadata": {},
   "source": [
    "### Fuente de datos"
   ]
  },
  {
   "cell_type": "markdown",
   "id": "c3647efb",
   "metadata": {},
   "source": [
    "Fuente de Datos\n",
    "Los datos utilizados en este análisis fueron extraídos del conjunto de datos Telco Customer Churn, disponible en Kaggle. El dataset se puede acceder a través del siguiente enlace:\n",
    "🔗 [Telco Customer Churn - Kaggle](https://www.kaggle.com/datasets/blastchar/telco-customer-churn/data)\n",
    "\n",
    "Este conjunto contiene 7,043 registros y 21 variables, que incluyen información sobre clientes, los servicios contratados y las cancelaciones. A continuación, se presenta una breve descripción de las variables:\n",
    "\n",
    "* customerID: Identificador único de cada cliente.\n",
    "\n",
    "* gender: Género del cliente (Female = Femenino, Male = Masculino).\n",
    "\n",
    "* SeniorCitizen: Indica si el cliente es una persona mayor (1 = Sí, 0 = No).\n",
    "\n",
    "* Partner: Indica si el cliente tiene pareja (Yes = Sí, No = No).\n",
    "\n",
    "* Dependents: Indica si el cliente tiene personas a su cargo (Yes = Sí, No = No).\n",
    "\n",
    "* tenure: Número de meses que el cliente ha permanecido en la empresa.\n",
    "\n",
    "* PhoneService: Indica si el cliente tiene servicio telefónico (Yes = Sí, No = No).\n",
    "\n",
    "* MultipleLines: Indica si el cliente tiene múltiples líneas telefónicas (Yes = Sí, No = No, No phone service = Sin servicio telefónico).\n",
    "\n",
    "* InternetService: Tipo de servicio de internet contratado (DSL, Fiber Optic o No = Sin servicio de internet).\n",
    "\n",
    "* OnlineSecurity: Indica si el cliente tiene servicio de seguridad en línea (Yes = Sí, No = No, No internet service = Sin servicio de internet).\n",
    "\n",
    "* OnlineBackup: Indica si el cliente tiene servicio de respaldo en línea (Yes = Sí, No = No, No internet service = Sin servicio de internet).\n",
    "\n",
    "* DeviceProtection: Indica si el cliente tiene protección de dispositivos (Yes = Sí, No = No, No internet service = Sin servicio de internet).\n",
    "\n",
    "* TechSupport: Indica si el cliente tiene soporte técnico (Yes = Sí, No = No, No internet service = Sin servicio de internet).\n",
    "\n",
    "* StreamingTV: Indica si el cliente tiene servicio de streaming de TV (Yes = Sí, No = No, No internet service = Sin servicio de internet).\n",
    "\n",
    "* StreamingMovies: Indica si el cliente tiene servicio de streaming de películas (Yes = Sí, No = No, No internet service = Sin servicio de internet).\n",
    "\n",
    "* Contract: Tipo de contrato del cliente (Month-to-month = Mensual, One year = Anual, Two year = Bienal).\n",
    "\n",
    "* PaperlessBilling: Indica si el cliente utiliza facturación electrónica (Yes = Sí, No = No).\n",
    "\n",
    "* PaymentMethod: Método de pago elegido por el cliente (Electronic check = Cheque electrónico, Mailed check = Cheque enviado por correo, Bank transfer (automatic) = Transferencia bancaria automática, Credit card = Tarjeta de crédito).\n",
    "\n",
    "* MonthlyCharges: Valor mensual pagado por el cliente (en dólares).\n",
    "\n",
    "* TotalCharges: Valor total pagado por el cliente a lo largo del período del contrato (en dólares).\n",
    "\n",
    "* Churn: Indica si el cliente canceló el servicio (Yes = Sí, No = No)."
   ]
  },
  {
   "cell_type": "markdown",
   "id": "f76dc45c",
   "metadata": {},
   "source": [
    "###  Objetivos"
   ]
  },
  {
   "cell_type": "markdown",
   "id": "c62426ed",
   "metadata": {},
   "source": [
    "Objetivos del Análisis\n",
    "\n",
    "✅ Explorar el perfil de los clientes\n",
    "\n",
    "Analizar características como género, presencia de dependientes, estado civil y edad para comprender mejor el público que utiliza los servicios de la empresa.\n",
    "\n",
    "✅ Investigar patrones asociados al churn\n",
    "\n",
    "Examinar cómo diferentes variables —como tiempo de permanencia, método de pago y perfil del cliente— se relacionan con la cancelación del servicio, permitiendo identificar factores clave para la retención de clientes."
   ]
  },
  {
   "cell_type": "markdown",
   "id": "61c4a30e",
   "metadata": {},
   "source": [
    "### Análisis de Datos"
   ]
  },
  {
   "cell_type": "markdown",
   "id": "2f87561b",
   "metadata": {},
   "source": [
    "#### Importación"
   ]
  },
  {
   "cell_type": "code",
   "execution_count": 90,
   "id": "55b39977",
   "metadata": {},
   "outputs": [],
   "source": [
    "# Importación de las bibliotecas\n",
    "import pandas as pd\n",
    "import matplotlib.pyplot as plt\n",
    "import seaborn as sns\n",
    "import plotly.express as px\n",
    "import numpy as np\n",
    "from matplotlib.ticker import FuncFormatter\n",
    "\n",
    "#Estilo de los gráficos\n",
    "plt.style.use('ggplot')\n",
    "\n",
    "\n",
    "#Configuración para exibir gráficos en el notebook\n",
    "%matplotlib inline\n",
    "\n",
    "# Evitar avisos desnecessarios\n",
    "import warnings\n",
    "warnings.filterwarnings('ignore')"
   ]
  },
  {
   "cell_type": "code",
   "execution_count": 91,
   "id": "79d95148",
   "metadata": {},
   "outputs": [],
   "source": [
    "# Importar el archivo CSV y convertirlo en un DataFrame \n",
    "telco = pd.read_csv(\"WA_Fn-UseC_-Telco-Customer-Churn.csv\")"
   ]
  },
  {
   "cell_type": "markdown",
   "id": "0c8fa836",
   "metadata": {},
   "source": [
    "#### Exploración inicial del DataFrame"
   ]
  },
  {
   "cell_type": "code",
   "execution_count": 92,
   "id": "298f9cc7",
   "metadata": {},
   "outputs": [
    {
     "data": {
      "text/html": [
       "<div>\n",
       "<style scoped>\n",
       "    .dataframe tbody tr th:only-of-type {\n",
       "        vertical-align: middle;\n",
       "    }\n",
       "\n",
       "    .dataframe tbody tr th {\n",
       "        vertical-align: top;\n",
       "    }\n",
       "\n",
       "    .dataframe thead th {\n",
       "        text-align: right;\n",
       "    }\n",
       "</style>\n",
       "<table border=\"1\" class=\"dataframe\">\n",
       "  <thead>\n",
       "    <tr style=\"text-align: right;\">\n",
       "      <th></th>\n",
       "      <th>customerID</th>\n",
       "      <th>gender</th>\n",
       "      <th>SeniorCitizen</th>\n",
       "      <th>Partner</th>\n",
       "      <th>Dependents</th>\n",
       "      <th>tenure</th>\n",
       "      <th>PhoneService</th>\n",
       "      <th>MultipleLines</th>\n",
       "      <th>InternetService</th>\n",
       "      <th>OnlineSecurity</th>\n",
       "      <th>...</th>\n",
       "      <th>DeviceProtection</th>\n",
       "      <th>TechSupport</th>\n",
       "      <th>StreamingTV</th>\n",
       "      <th>StreamingMovies</th>\n",
       "      <th>Contract</th>\n",
       "      <th>PaperlessBilling</th>\n",
       "      <th>PaymentMethod</th>\n",
       "      <th>MonthlyCharges</th>\n",
       "      <th>TotalCharges</th>\n",
       "      <th>Churn</th>\n",
       "    </tr>\n",
       "  </thead>\n",
       "  <tbody>\n",
       "    <tr>\n",
       "      <th>0</th>\n",
       "      <td>7590-VHVEG</td>\n",
       "      <td>Female</td>\n",
       "      <td>0</td>\n",
       "      <td>Yes</td>\n",
       "      <td>No</td>\n",
       "      <td>1</td>\n",
       "      <td>No</td>\n",
       "      <td>No phone service</td>\n",
       "      <td>DSL</td>\n",
       "      <td>No</td>\n",
       "      <td>...</td>\n",
       "      <td>No</td>\n",
       "      <td>No</td>\n",
       "      <td>No</td>\n",
       "      <td>No</td>\n",
       "      <td>Month-to-month</td>\n",
       "      <td>Yes</td>\n",
       "      <td>Electronic check</td>\n",
       "      <td>29.85</td>\n",
       "      <td>29.85</td>\n",
       "      <td>No</td>\n",
       "    </tr>\n",
       "    <tr>\n",
       "      <th>1</th>\n",
       "      <td>5575-GNVDE</td>\n",
       "      <td>Male</td>\n",
       "      <td>0</td>\n",
       "      <td>No</td>\n",
       "      <td>No</td>\n",
       "      <td>34</td>\n",
       "      <td>Yes</td>\n",
       "      <td>No</td>\n",
       "      <td>DSL</td>\n",
       "      <td>Yes</td>\n",
       "      <td>...</td>\n",
       "      <td>Yes</td>\n",
       "      <td>No</td>\n",
       "      <td>No</td>\n",
       "      <td>No</td>\n",
       "      <td>One year</td>\n",
       "      <td>No</td>\n",
       "      <td>Mailed check</td>\n",
       "      <td>56.95</td>\n",
       "      <td>1889.5</td>\n",
       "      <td>No</td>\n",
       "    </tr>\n",
       "    <tr>\n",
       "      <th>2</th>\n",
       "      <td>3668-QPYBK</td>\n",
       "      <td>Male</td>\n",
       "      <td>0</td>\n",
       "      <td>No</td>\n",
       "      <td>No</td>\n",
       "      <td>2</td>\n",
       "      <td>Yes</td>\n",
       "      <td>No</td>\n",
       "      <td>DSL</td>\n",
       "      <td>Yes</td>\n",
       "      <td>...</td>\n",
       "      <td>No</td>\n",
       "      <td>No</td>\n",
       "      <td>No</td>\n",
       "      <td>No</td>\n",
       "      <td>Month-to-month</td>\n",
       "      <td>Yes</td>\n",
       "      <td>Mailed check</td>\n",
       "      <td>53.85</td>\n",
       "      <td>108.15</td>\n",
       "      <td>Yes</td>\n",
       "    </tr>\n",
       "    <tr>\n",
       "      <th>3</th>\n",
       "      <td>7795-CFOCW</td>\n",
       "      <td>Male</td>\n",
       "      <td>0</td>\n",
       "      <td>No</td>\n",
       "      <td>No</td>\n",
       "      <td>45</td>\n",
       "      <td>No</td>\n",
       "      <td>No phone service</td>\n",
       "      <td>DSL</td>\n",
       "      <td>Yes</td>\n",
       "      <td>...</td>\n",
       "      <td>Yes</td>\n",
       "      <td>Yes</td>\n",
       "      <td>No</td>\n",
       "      <td>No</td>\n",
       "      <td>One year</td>\n",
       "      <td>No</td>\n",
       "      <td>Bank transfer (automatic)</td>\n",
       "      <td>42.30</td>\n",
       "      <td>1840.75</td>\n",
       "      <td>No</td>\n",
       "    </tr>\n",
       "    <tr>\n",
       "      <th>4</th>\n",
       "      <td>9237-HQITU</td>\n",
       "      <td>Female</td>\n",
       "      <td>0</td>\n",
       "      <td>No</td>\n",
       "      <td>No</td>\n",
       "      <td>2</td>\n",
       "      <td>Yes</td>\n",
       "      <td>No</td>\n",
       "      <td>Fiber optic</td>\n",
       "      <td>No</td>\n",
       "      <td>...</td>\n",
       "      <td>No</td>\n",
       "      <td>No</td>\n",
       "      <td>No</td>\n",
       "      <td>No</td>\n",
       "      <td>Month-to-month</td>\n",
       "      <td>Yes</td>\n",
       "      <td>Electronic check</td>\n",
       "      <td>70.70</td>\n",
       "      <td>151.65</td>\n",
       "      <td>Yes</td>\n",
       "    </tr>\n",
       "  </tbody>\n",
       "</table>\n",
       "<p>5 rows × 21 columns</p>\n",
       "</div>"
      ],
      "text/plain": [
       "   customerID  gender  SeniorCitizen Partner Dependents  tenure PhoneService  \\\n",
       "0  7590-VHVEG  Female              0     Yes         No       1           No   \n",
       "1  5575-GNVDE    Male              0      No         No      34          Yes   \n",
       "2  3668-QPYBK    Male              0      No         No       2          Yes   \n",
       "3  7795-CFOCW    Male              0      No         No      45           No   \n",
       "4  9237-HQITU  Female              0      No         No       2          Yes   \n",
       "\n",
       "      MultipleLines InternetService OnlineSecurity  ... DeviceProtection  \\\n",
       "0  No phone service             DSL             No  ...               No   \n",
       "1                No             DSL            Yes  ...              Yes   \n",
       "2                No             DSL            Yes  ...               No   \n",
       "3  No phone service             DSL            Yes  ...              Yes   \n",
       "4                No     Fiber optic             No  ...               No   \n",
       "\n",
       "  TechSupport StreamingTV StreamingMovies        Contract PaperlessBilling  \\\n",
       "0          No          No              No  Month-to-month              Yes   \n",
       "1          No          No              No        One year               No   \n",
       "2          No          No              No  Month-to-month              Yes   \n",
       "3         Yes          No              No        One year               No   \n",
       "4          No          No              No  Month-to-month              Yes   \n",
       "\n",
       "               PaymentMethod MonthlyCharges  TotalCharges Churn  \n",
       "0           Electronic check          29.85         29.85    No  \n",
       "1               Mailed check          56.95        1889.5    No  \n",
       "2               Mailed check          53.85        108.15   Yes  \n",
       "3  Bank transfer (automatic)          42.30       1840.75    No  \n",
       "4           Electronic check          70.70        151.65   Yes  \n",
       "\n",
       "[5 rows x 21 columns]"
      ]
     },
     "execution_count": 92,
     "metadata": {},
     "output_type": "execute_result"
    }
   ],
   "source": [
    "# Visualización de las primeras cinco filas del DataFrame\n",
    "telco.head(5)"
   ]
  },
  {
   "cell_type": "code",
   "execution_count": 93,
   "id": "7a3236c9",
   "metadata": {},
   "outputs": [
    {
     "name": "stdout",
     "output_type": "stream",
     "text": [
      "Total de filas = 7043\n",
      "Total de columnas = 21\n"
     ]
    }
   ],
   "source": [
    "# Exibir la estructura de los datos\n",
    "print(f'Total de filas = {telco.shape[0]}')\n",
    "print(f'Total de columnas = {telco.shape[1]}')"
   ]
  },
  {
   "cell_type": "markdown",
   "id": "5361d97a",
   "metadata": {},
   "source": [
    "#### Tipos de datos"
   ]
  },
  {
   "cell_type": "code",
   "execution_count": 94,
   "id": "b1a2def3",
   "metadata": {},
   "outputs": [
    {
     "name": "stdout",
     "output_type": "stream",
     "text": [
      "<class 'pandas.core.frame.DataFrame'>\n",
      "RangeIndex: 7043 entries, 0 to 7042\n",
      "Data columns (total 21 columns):\n",
      " #   Column            Non-Null Count  Dtype  \n",
      "---  ------            --------------  -----  \n",
      " 0   customerID        7043 non-null   object \n",
      " 1   gender            7043 non-null   object \n",
      " 2   SeniorCitizen     7043 non-null   int64  \n",
      " 3   Partner           7043 non-null   object \n",
      " 4   Dependents        7043 non-null   object \n",
      " 5   tenure            7043 non-null   int64  \n",
      " 6   PhoneService      7043 non-null   object \n",
      " 7   MultipleLines     7043 non-null   object \n",
      " 8   InternetService   7043 non-null   object \n",
      " 9   OnlineSecurity    7043 non-null   object \n",
      " 10  OnlineBackup      7043 non-null   object \n",
      " 11  DeviceProtection  7043 non-null   object \n",
      " 12  TechSupport       7043 non-null   object \n",
      " 13  StreamingTV       7043 non-null   object \n",
      " 14  StreamingMovies   7043 non-null   object \n",
      " 15  Contract          7043 non-null   object \n",
      " 16  PaperlessBilling  7043 non-null   object \n",
      " 17  PaymentMethod     7043 non-null   object \n",
      " 18  MonthlyCharges    7043 non-null   float64\n",
      " 19  TotalCharges      7043 non-null   object \n",
      " 20  Churn             7043 non-null   object \n",
      "dtypes: float64(1), int64(2), object(18)\n",
      "memory usage: 1.1+ MB\n"
     ]
    }
   ],
   "source": [
    "# Verificar los tipos de datos de cada columna\n",
    "telco.info()"
   ]
  },
  {
   "cell_type": "markdown",
   "id": "d6dd48b9",
   "metadata": {},
   "source": [
    "#### Valores ausentes y duplicados"
   ]
  },
  {
   "cell_type": "code",
   "execution_count": 95,
   "id": "ea8aa595",
   "metadata": {},
   "outputs": [
    {
     "name": "stdout",
     "output_type": "stream",
     "text": [
      "Número de registros duplicados: 0\n"
     ]
    }
   ],
   "source": [
    "# Contar valores duplicados\n",
    "num_duplicados = telco.duplicated().sum()\n",
    "print(f'Número de registros duplicados: {num_duplicados}')"
   ]
  },
  {
   "cell_type": "code",
   "execution_count": 96,
   "id": "297305c3",
   "metadata": {},
   "outputs": [
    {
     "name": "stdout",
     "output_type": "stream",
     "text": [
      "\n",
      "Valores nulos por columna:\n",
      "customerID          0\n",
      "gender              0\n",
      "SeniorCitizen       0\n",
      "Partner             0\n",
      "Dependents          0\n",
      "tenure              0\n",
      "PhoneService        0\n",
      "MultipleLines       0\n",
      "InternetService     0\n",
      "OnlineSecurity      0\n",
      "OnlineBackup        0\n",
      "DeviceProtection    0\n",
      "TechSupport         0\n",
      "StreamingTV         0\n",
      "StreamingMovies     0\n",
      "Contract            0\n",
      "PaperlessBilling    0\n",
      "PaymentMethod       0\n",
      "MonthlyCharges      0\n",
      "TotalCharges        0\n",
      "Churn               0\n",
      "dtype: int64\n"
     ]
    }
   ],
   "source": [
    "# Contar valores ausentes por columna\n",
    "print(\"\\nValores nulos por columna:\")\n",
    "print(telco.isnull().sum())"
   ]
  },
  {
   "cell_type": "markdown",
   "id": "fff093bf",
   "metadata": {},
   "source": [
    "✅ No hay valores duplicados ni ausentes en el conjunto de datos."
   ]
  },
  {
   "cell_type": "markdown",
   "id": "5656f12b",
   "metadata": {},
   "source": [
    "#### Detección de Outliers"
   ]
  },
  {
   "cell_type": "markdown",
   "id": "17dfc80b",
   "metadata": {},
   "source": [
    "Para garantizar que nuestro análisis no se vea distorsionado, verificaremos la presencia de valores atípicos (outliers). Comenzaremos esta etapa utilizando la función describe(), que proporciona estadísticas descriptivas de las variables seleccionadas, y un diagrama de caja (boxplot) para facilitar la visualización de los datos."
   ]
  },
  {
   "cell_type": "code",
   "execution_count": 97,
   "id": "611c7cb1",
   "metadata": {},
   "outputs": [
    {
     "data": {
      "text/html": [
       "<div>\n",
       "<style scoped>\n",
       "    .dataframe tbody tr th:only-of-type {\n",
       "        vertical-align: middle;\n",
       "    }\n",
       "\n",
       "    .dataframe tbody tr th {\n",
       "        vertical-align: top;\n",
       "    }\n",
       "\n",
       "    .dataframe thead th {\n",
       "        text-align: right;\n",
       "    }\n",
       "</style>\n",
       "<table border=\"1\" class=\"dataframe\">\n",
       "  <thead>\n",
       "    <tr style=\"text-align: right;\">\n",
       "      <th></th>\n",
       "      <th>tenure</th>\n",
       "      <th>MonthlyCharges</th>\n",
       "    </tr>\n",
       "  </thead>\n",
       "  <tbody>\n",
       "    <tr>\n",
       "      <th>count</th>\n",
       "      <td>7043.000000</td>\n",
       "      <td>7043.000000</td>\n",
       "    </tr>\n",
       "    <tr>\n",
       "      <th>mean</th>\n",
       "      <td>32.371149</td>\n",
       "      <td>64.761692</td>\n",
       "    </tr>\n",
       "    <tr>\n",
       "      <th>std</th>\n",
       "      <td>24.559481</td>\n",
       "      <td>30.090047</td>\n",
       "    </tr>\n",
       "    <tr>\n",
       "      <th>min</th>\n",
       "      <td>0.000000</td>\n",
       "      <td>18.250000</td>\n",
       "    </tr>\n",
       "    <tr>\n",
       "      <th>25%</th>\n",
       "      <td>9.000000</td>\n",
       "      <td>35.500000</td>\n",
       "    </tr>\n",
       "    <tr>\n",
       "      <th>50%</th>\n",
       "      <td>29.000000</td>\n",
       "      <td>70.350000</td>\n",
       "    </tr>\n",
       "    <tr>\n",
       "      <th>75%</th>\n",
       "      <td>55.000000</td>\n",
       "      <td>89.850000</td>\n",
       "    </tr>\n",
       "    <tr>\n",
       "      <th>max</th>\n",
       "      <td>72.000000</td>\n",
       "      <td>118.750000</td>\n",
       "    </tr>\n",
       "  </tbody>\n",
       "</table>\n",
       "</div>"
      ],
      "text/plain": [
       "            tenure  MonthlyCharges\n",
       "count  7043.000000     7043.000000\n",
       "mean     32.371149       64.761692\n",
       "std      24.559481       30.090047\n",
       "min       0.000000       18.250000\n",
       "25%       9.000000       35.500000\n",
       "50%      29.000000       70.350000\n",
       "75%      55.000000       89.850000\n",
       "max      72.000000      118.750000"
      ]
     },
     "execution_count": 97,
     "metadata": {},
     "output_type": "execute_result"
    }
   ],
   "source": [
    "# Estadísticas descriptivas de las variables tenure y MonthlyCharges\n",
    "telco[['tenure', 'MonthlyCharges']].describe()"
   ]
  },
  {
   "cell_type": "code",
   "execution_count": 98,
   "id": "18711d5f",
   "metadata": {},
   "outputs": [
    {
     "data": {
      "image/png": "[encoded data removed]",
      "text/plain": [
       "<Figure size 864x360 with 2 Axes>"
      ]
     },
     "metadata": {
      "needs_background": "light"
     },
     "output_type": "display_data"
    }
   ],
   "source": [
    "## Boxplot para Identificación de Outliers\n",
    "# Creación de boxplots para las columnas tenure y MonthlyCharges\n",
    "plt.figure(figsize=(12, 5))\n",
    "\n",
    "plt.subplot(1, 2, 1)\n",
    "sns.boxplot(y=telco['tenure'])\n",
    "plt.title('Boxplot de Tenure')\n",
    "\n",
    "plt.subplot(1, 2, 2)\n",
    "sns.boxplot(y=telco['MonthlyCharges'])\n",
    "plt.title('Boxplot de MonthlyCharges')\n",
    "\n",
    "plt.tight_layout()\n",
    "plt.show()"
   ]
  },
  {
   "cell_type": "markdown",
   "id": "ce71cdd8",
   "metadata": {},
   "source": [
    "Con base en la estadística descriptiva de la muestra y los boxplots, no se identificaron valores extremos. Por lo tanto, no es necesario realizar un tratamiento adicional para los outliers."
   ]
  },
  {
   "cell_type": "markdown",
   "id": "d9347295",
   "metadata": {},
   "source": [
    "### Preguntas de negocio"
   ]
  },
  {
   "cell_type": "markdown",
   "id": "b78abc17",
   "metadata": {},
   "source": [
    "#### 1 - ¿Cuál es la proporción de clientes que dieron churn en relación con el total de clientes?\n"
   ]
  },
  {
   "cell_type": "code",
   "execution_count": 99,
   "id": "4ffd87ae",
   "metadata": {},
   "outputs": [
    {
     "name": "stdout",
     "output_type": "stream",
     "text": [
      "La proporción de clientes que dieron churn en relación con el total de clientes fue de: 26.54%\n"
     ]
    }
   ],
   "source": [
    "churn_rate = (telco['Churn'] == 'Yes').sum() / telco['customerID'].count()\n",
    "print(f'La proporción de clientes que dieron churn en relación con el total de clientes fue de: {churn_rate:.2%}')"
   ]
  },
  {
   "cell_type": "code",
   "execution_count": 100,
   "id": "589db243",
   "metadata": {},
   "outputs": [
    {
     "data": {
      "image/png": "[encoded data removed]",
      "text/plain": [
       "<Figure size 432x432 with 1 Axes>"
      ]
     },
     "metadata": {},
     "output_type": "display_data"
    }
   ],
   "source": [
    "plt.figure(figsize=(6,6))\n",
    "plt.pie(\n",
    "    telco['Churn'].value_counts(),\n",
    "    labels=telco['Churn'].value_counts().index,\n",
    "    colors=[\"royalblue\", \"lightcoral\"], \n",
    "    autopct=\"%1.1f%%\", \n",
    "    startangle=90,\n",
    ")\n",
    "\n",
    "# Agregar título\n",
    "plt.title(\"Proporción de clientes que dieron Churn\")\n",
    "\n",
    "# Mostrar gráfico\n",
    "plt.show()"
   ]
  },
  {
   "cell_type": "markdown",
   "id": "e89e0e48",
   "metadata": {},
   "source": [
    "#### 2 - ¿Cuál es la distribución de los valores que los clientes pagan mensualmente?"
   ]
  },
  {
   "cell_type": "code",
   "execution_count": 101,
   "id": "cff7239f",
   "metadata": {},
   "outputs": [
    {
     "data": {
      "text/plain": [
       "count    7043.000000\n",
       "mean       64.761692\n",
       "std        30.090047\n",
       "min        18.250000\n",
       "25%        35.500000\n",
       "50%        70.350000\n",
       "75%        89.850000\n",
       "max       118.750000\n",
       "Name: MonthlyCharges, dtype: float64"
      ]
     },
     "execution_count": 101,
     "metadata": {},
     "output_type": "execute_result"
    }
   ],
   "source": [
    "telco['MonthlyCharges'].describe()"
   ]
  },
  {
   "cell_type": "markdown",
   "id": "32474d03",
   "metadata": {},
   "source": [
    "El valor mínimo pagado mensualmente es de 18,25 dólares y el máximo es de 118,75 dólares.\n",
    "El pago medio mensual es de 64,76 dólares y la desviación estándar es 30,09, lo que indica una dispersión considerable en los valores.\n",
    "La mediana (50%) es de 70,35 dólares, lo que significa que la mitad de los clientes paga menos que este valor y la otra mitad paga más.\n",
    "\n",
    "Los cuartiles muestran que:\n",
    "\n",
    "El 25% de los clientes paga hasta 35,50 dólares.\n",
    "\n",
    "El 50% de los clientes paga hasta 70,35 dólares (mediana).\n",
    "\n",
    "El 75% de los clientes paga hasta 89,85 dólares.\n",
    "\n",
    "Visualicemos la distribución de los valores pagos mensualmente con un histograma:"
   ]
  },
  {
   "cell_type": "code",
   "execution_count": 102,
   "id": "a5d537b7",
   "metadata": {},
   "outputs": [
    {
     "data": {
      "image/png": "[encoded data removed]",
      "text/plain": [
       "<Figure size 576x360 with 1 Axes>"
      ]
     },
     "metadata": {
      "needs_background": "light"
     },
     "output_type": "display_data"
    }
   ],
   "source": [
    "plt.figure(figsize=(8, 5))\n",
    "sns.histplot(telco['MonthlyCharges'], bins=30, color='cornflowerblue')\n",
    "plt.xlabel('Gastos Mensuales ($)')\n",
    "plt.ylabel('Número de Clientes')\n",
    "plt.title('Distribución de los Valores Pagados Mensualmente')\n",
    "plt.show()"
   ]
  },
  {
   "cell_type": "markdown",
   "id": "78d98cf1",
   "metadata": {},
   "source": [
    "Se observa un pico en torno a los 20 dólares, lo que podría indicar un plan de entrada específico o un segmento de clientes que usa servicios mínimos. Luego, la distribución muestra una variedad de rangos de precios.\n",
    "\n",
    "La presencia de clientes que pagan hasta 118,75 dólares indica una cola larga a la derecha, lo que sugiere que algunos clientes pagan valores altos, aunque son minoría.\n",
    "\n",
    "El promedio de 64,76 dólares y la mediana de 70,35 dólares muestran una ligera asimetría negativa, pero el pico inicial podría estar sesgando la media hacia abajo."
   ]
  },
  {
   "cell_type": "markdown",
   "id": "5b747744",
   "metadata": {},
   "source": [
    "#### 3 - ¿Cuáles son los métodos de pago más utilizados por los clientes?"
   ]
  },
  {
   "cell_type": "code",
   "execution_count": 103,
   "id": "f1533ecd",
   "metadata": {},
   "outputs": [
    {
     "data": {
      "image/png": "[encoded data removed]",
      "text/plain": [
       "<Figure size 576x360 with 1 Axes>"
      ]
     },
     "metadata": {
      "needs_background": "light"
     },
     "output_type": "display_data"
    }
   ],
   "source": [
    "# Crear gráfico\n",
    "plt.figure(figsize=(8,5))\n",
    "sns.barplot(\n",
    "    x=telco['PaymentMethod'].value_counts().values, \n",
    "    y=telco['PaymentMethod'].value_counts().index, \n",
    "    palette='Blues_r'\n",
    ")  \n",
    "\n",
    "# Agregar título\n",
    "plt.ylabel(\"Método de Pago\")\n",
    "plt.xlabel(\"Número de Clientes\")\n",
    "plt.title(\"Distribución de Clientes por Método de Pago\")\n",
    "\n",
    "# Mostrar gráfico\n",
    "plt.show()"
   ]
  },
  {
   "cell_type": "markdown",
   "id": "9fe509b9",
   "metadata": {},
   "source": [
    "El método de pago más común entre los clientes es el Electronic Check, seguido por Mailed check, Bank transfer (automatic) y Credit card (automatic).\n",
    "Vamos verificar la relación entre el método de pago y el Churn con un gráfico:"
   ]
  },
  {
   "cell_type": "code",
   "execution_count": 104,
   "id": "fd145d9f",
   "metadata": {},
   "outputs": [
    {
     "data": {
      "image/png": "[encoded data removed]",
      "text/plain": [
       "<Figure size 864x360 with 1 Axes>"
      ]
     },
     "metadata": {
      "needs_background": "light"
     },
     "output_type": "display_data"
    }
   ],
   "source": [
    "# Crear el recuento de churn por método de pago\"\n",
    "payment_churn = telco.groupby(['PaymentMethod', 'Churn']).size().reset_index(name='Count')\n",
    "\n",
    "# Crear gráfico\n",
    "plt.figure(figsize=(12,5))\n",
    "sns.barplot(data=payment_churn, x='PaymentMethod', y='Count', hue='Churn', palette='muted')\n",
    "\n",
    "# Agregar título\n",
    "plt.xlabel('Método de Pago')\n",
    "plt.ylabel('Número de Clientes')\n",
    "plt.title('Churn por Método de Pago')\n",
    "plt.xticks(rotation=0) \n",
    "plt.legend(title='Churn')\n",
    "\n",
    "# Mostrar gráfico\n",
    "plt.show()"
   ]
  },
  {
   "cell_type": "markdown",
   "id": "b6d617c8",
   "metadata": {},
   "source": [
    "A partir del gráfico, podemos visualizar que el método de pago Electronic Check fue el que presentó el mayor número de clientes que dieron Churn. Esto puede estar asociado a un perfil financiero más inestable, a la facilidad de interrumpir el pago en comparación con las tarjetas de crédito o débito automático, o incluso a problemas en el procesamiento de este método. Además, puede ser percibido como más complejo o lento en comparación con otras opciones, lo que genera frustración y desgaste para el usuario. También requiere una acción manual para cada pago, lo que aumenta el riesgo de olvido o interrupción del servicio. "
   ]
  },
  {
   "cell_type": "markdown",
   "id": "59c50ce0",
   "metadata": {},
   "source": [
    "#### 4 - ¿Cuál es el perfil de los clientes en relación con el género, el estado civil, la edad y los dependientes?"
   ]
  },
  {
   "cell_type": "markdown",
   "id": "b7f7ebca",
   "metadata": {},
   "source": [
    "##### Distribución de Clientes por Género"
   ]
  },
  {
   "cell_type": "markdown",
   "id": "23d3574d",
   "metadata": {},
   "source": [
    "A continuación, presentamos la distribución de los clientes según su género:"
   ]
  },
  {
   "cell_type": "code",
   "execution_count": 105,
   "id": "d48ef9cc",
   "metadata": {},
   "outputs": [
    {
     "data": {
      "image/png": "[encoded data removed]",
      "text/plain": [
       "<Figure size 432x432 with 1 Axes>"
      ]
     },
     "metadata": {},
     "output_type": "display_data"
    }
   ],
   "source": [
    "# Crear gráfico\n",
    "plt.figure(figsize=(6, 6))\n",
    "plt.pie(\n",
    "    telco['gender'].value_counts(),\n",
    "    labels=telco['gender'].value_counts().index,\n",
    "    colors=[\"royalblue\", \"lightcoral\"], \n",
    "    autopct=\"%1.1f%%\", \n",
    "    startangle=90,\n",
    ")\n",
    "\n",
    "# Agregar título\n",
    "plt.title(\"Distribución de Clientes por Género\")\n",
    "\n",
    "# Mostrar gráfico\n",
    "plt.show()"
   ]
  },
  {
   "cell_type": "markdown",
   "id": "fec5d7e0",
   "metadata": {},
   "source": [
    "Los datos indican que el 50,5% de los clientes son hombres y el 49,5% son mujeres."
   ]
  },
  {
   "cell_type": "markdown",
   "id": "92e86c55",
   "metadata": {},
   "source": [
    "##### Distribución de Clientes por Edad (Senioridad)"
   ]
  },
  {
   "cell_type": "markdown",
   "id": "8f38a7f9",
   "metadata": {},
   "source": [
    "Para analizar la senioridad de los clientes, consideramos como mayores a aquellos clasificados en la base de datos con el valor 1 y como no mayores a los que tienen el valor 0."
   ]
  },
  {
   "cell_type": "code",
   "execution_count": 106,
   "id": "0176036d",
   "metadata": {},
   "outputs": [
    {
     "data": {
      "image/png": "[encoded data removed]",
      "text/plain": [
       "<Figure size 576x360 with 1 Axes>"
      ]
     },
     "metadata": {
      "needs_background": "light"
     },
     "output_type": "display_data"
    }
   ],
   "source": [
    "# Crear un diccionario para mapear los valores\n",
    "senior_labels = {0: \"No\", 1: \"Yes\"}\n",
    "\n",
    "# Crear gráfico de barras\n",
    "plt.figure(figsize=(8, 5))\n",
    "sns.barplot(\n",
    "    y=telco['SeniorCitizen'].value_counts().values, \n",
    "    x=telco['SeniorCitizen'].value_counts().index.map(senior_labels), \n",
    "    palette=\"seismic\"\n",
    ")\n",
    "\n",
    "# Agregar etiquetas\n",
    "plt.title(\"Distribución de Clientes por Senioridad\")\n",
    "plt.ylabel(\"Número de Clientes\")\n",
    "plt.xlabel(\"Mayor de Edad\")\n",
    "\n",
    "# Mostrar gráfico\n",
    "plt.show()"
   ]
  },
  {
   "cell_type": "code",
   "execution_count": 107,
   "id": "5f1439e9",
   "metadata": {},
   "outputs": [
    {
     "name": "stdout",
     "output_type": "stream",
     "text": [
      " En relación al total de clientes, 5901 no son mayores (83.8%) y 1142 son mayores (16.2%).\n"
     ]
    }
   ],
   "source": [
    "senior_perc = telco['SeniorCitizen'].value_counts(normalize=True) * 100 \n",
    "print(f\" En relación al total de clientes, {telco['SeniorCitizen'].value_counts()[0]} no son mayores ({senior_perc[0]:.1f}%) y {telco['SeniorCitizen'].value_counts()[1]} son mayores ({senior_perc[1]:.1f}%).\")"
   ]
  },
  {
   "cell_type": "markdown",
   "id": "24987b45",
   "metadata": {},
   "source": [
    "##### Distribución de Clientes por Estado Civil (Pareja) "
   ]
  },
  {
   "cell_type": "markdown",
   "id": "37b01f5f",
   "metadata": {},
   "source": [
    "A continuación, presentamos la distribución de clientes que tienen o no pareja:"
   ]
  },
  {
   "cell_type": "code",
   "execution_count": 108,
   "id": "23ea1aba",
   "metadata": {},
   "outputs": [
    {
     "data": {
      "image/png": "[encoded data removed]",
      "text/plain": [
       "<Figure size 576x360 with 1 Axes>"
      ]
     },
     "metadata": {
      "needs_background": "light"
     },
     "output_type": "display_data"
    }
   ],
   "source": [
    "# Crear gráfico de barras\n",
    "plt.figure(figsize=(8, 5))\n",
    "sns.barplot(x=telco['Partner'].value_counts().index, \n",
    "            y=telco['Partner'].value_counts().values, \n",
    "            palette=\"seismic\")\n",
    "\n",
    "# Agregar etiquetas\n",
    "plt.title(\"Distribución de Clientes por Pareja\")\n",
    "plt.xlabel(\"Tiene Pareja\")\n",
    "plt.ylabel(\"Número de Clientes\")\n",
    "\n",
    "# Mostrar gráfico\n",
    "plt.show()"
   ]
  },
  {
   "cell_type": "code",
   "execution_count": 109,
   "id": "1b95e73a",
   "metadata": {},
   "outputs": [
    {
     "name": "stdout",
     "output_type": "stream",
     "text": [
      "De acuerdo con el grafico, 3641 (51.7%) clientes no tienen pareja y 3402 (48.3%) tiene pareja.\n"
     ]
    }
   ],
   "source": [
    "partner_perc = telco['Partner'].value_counts(normalize=True) * 100 \n",
    "print(f\"De acuerdo con el grafico, {telco['Partner'].value_counts()['No']} ({partner_perc['No']:.1f}%) clientes no tienen pareja y {telco['Partner'].value_counts()['Yes']} ({partner_perc['Yes']:.1f}%) tiene pareja.\")"
   ]
  },
  {
   "cell_type": "markdown",
   "id": "1612ba39",
   "metadata": {},
   "source": [
    "##### Distribución de Clientes por Dependientes\n"
   ]
  },
  {
   "cell_type": "markdown",
   "id": "85a1a24a",
   "metadata": {},
   "source": [
    "Por último, analizamos la cantidad de clientes que tienen o no dependientes:"
   ]
  },
  {
   "cell_type": "code",
   "execution_count": 110,
   "id": "e5a3a942",
   "metadata": {},
   "outputs": [
    {
     "data": {
      "image/png": "[encoded data removed]",
      "text/plain": [
       "<Figure size 576x360 with 1 Axes>"
      ]
     },
     "metadata": {
      "needs_background": "light"
     },
     "output_type": "display_data"
    }
   ],
   "source": [
    "# Crear gráfico de barras\n",
    "plt.figure(figsize=(8, 5))\n",
    "sns.barplot(x=telco['Dependents'].value_counts().index, \n",
    "            y=telco['Dependents'].value_counts().values, \n",
    "            palette=\"seismic\")\n",
    "\n",
    "# Agregar etiquetas\n",
    "plt.title(\"Distribución de Clientes por Dependientes\")\n",
    "plt.xlabel(\"Tiene Dependientes\")\n",
    "plt.ylabel(\"Número de Clientes\")\n",
    "\n",
    "# Mostrar gráfico\n",
    "plt.show()"
   ]
  },
  {
   "cell_type": "code",
   "execution_count": 111,
   "id": "617bd63a",
   "metadata": {},
   "outputs": [
    {
     "name": "stdout",
     "output_type": "stream",
     "text": [
      "4933 (70.0%) de los clientes no tienen dependientes y 2110 (30.0%) tienen dependientes. \n"
     ]
    }
   ],
   "source": [
    "dependents_perc = telco['Dependents'].value_counts(normalize=True) * 100 \n",
    "print(f\"{telco['Dependents'].value_counts()['No']} ({dependents_perc['No']:.1f}%) de los clientes no tienen dependientes y {telco['Dependents'].value_counts()['Yes']} ({dependents_perc['Yes']:.1f}%) tienen dependientes. \") "
   ]
  },
  {
   "cell_type": "markdown",
   "id": "49ecf4be",
   "metadata": {},
   "source": [
    "#### 5 - ¿Cómo varía la distribución del valor mensual pagado por el cliente entre aquellos que dieron churn y los que permanecieron?"
   ]
  },
  {
   "cell_type": "markdown",
   "id": "63f3bc75",
   "metadata": {},
   "source": [
    "Para analizar la relación entre el valor mensual pagado y el estado de churn de los clientes, utilizamos un boxplot."
   ]
  },
  {
   "cell_type": "code",
   "execution_count": 112,
   "id": "296a7ddc",
   "metadata": {},
   "outputs": [
    {
     "data": {
      "image/png": "[encoded data removed]",
      "text/plain": [
       "<Figure size 576x360 with 1 Axes>"
      ]
     },
     "metadata": {
      "needs_background": "light"
     },
     "output_type": "display_data"
    }
   ],
   "source": [
    "# Crear Boxplot\n",
    "plt.figure(figsize=(8,5))\n",
    "sns.boxplot(data=telco, x=\"Churn\", y=\"MonthlyCharges\", palette=\"seismic\")\n",
    "\n",
    "# Ajustes en el gráfico\n",
    "plt.title(\"Distribución del Valor Mensual Pagado por Estado de Churn\")\n",
    "plt.xlabel(\"Churn\")\n",
    "plt.ylabel(\"Valor Mensual Pagado ($)\")\n",
    "plt.grid(axis=\"y\", linestyle=\"--\", alpha=0.5)\n",
    "plt.show()"
   ]
  },
  {
   "cell_type": "markdown",
   "id": "e6bba6a8",
   "metadata": {},
   "source": [
    "El análisis del boxplot revela que los clientes que permanecieron en la empresa (\"No Churn\") tienen una mediana de 64 dólares, con la distribución más concentrada en valores más bajos. En cambio, los clientes que cancelaron el servicio (\"Churn\") presentan una mediana más alta, de alrededor de 80 dólares, con una mayor dispersión en valores elevados. Esto sugiere que los **clientes con valores mensuales más altos tienden a tener una mayor tasa de cancelación.**\n",
    "\n"
   ]
  },
  {
   "cell_type": "markdown",
   "id": "1a1a447f",
   "metadata": {},
   "source": [
    "#### 6 - ¿Cuál es la relación entre el tiempo de permanencia y el churn?"
   ]
  },
  {
   "cell_type": "markdown",
   "id": "da9b301b",
   "metadata": {},
   "source": [
    "Analicemos si hay una concentración en períodos cortos o largos y cómo esto puede estar relacionado con la cancelación del servicio."
   ]
  },
  {
   "cell_type": "code",
   "execution_count": 113,
   "id": "b5cb7e8f",
   "metadata": {
    "scrolled": true
   },
   "outputs": [
    {
     "data": {
      "image/png": "[encoded data removed]",
      "text/plain": [
       "<Figure size 576x360 with 1 Axes>"
      ]
     },
     "metadata": {
      "needs_background": "light"
     },
     "output_type": "display_data"
    }
   ],
   "source": [
    "plt.figure(figsize=(8,5))\n",
    "sns.kdeplot(data=telco[telco[\"Churn\"]==\"Yes\"], x=\"tenure\", label=\"Churn\", fill=True, alpha=0.5, color=\"red\")\n",
    "sns.kdeplot(data=telco[telco[\"Churn\"]==\"No\"], x=\"tenure\", label=\"No Churn\", fill=True, alpha=0.5, color=\"blue\")\n",
    "\n",
    "# Ajustes en el gráfico\n",
    "plt.title(\"Distribución del Tiempo de Permanencia - Churn vs No Churn\")\n",
    "plt.xlabel(\"Tiempo de Permanencia (meses)\")\n",
    "plt.ylabel(\"Densidad\")\n",
    "plt.legend()\n",
    "plt.grid(axis=\"y\", linestyle=\"--\", alpha=0.5)\n",
    "plt.show()"
   ]
  },
  {
   "cell_type": "markdown",
   "id": "f5746837",
   "metadata": {},
   "source": [
    "El análisis del gráfico KDE revela un patrón interesante: **la mayoría de los clientes que cancelan el servicio (churn) tienen menos de 20 meses de permanencia.** Esto sugiere un período crítico en los primeros meses, donde la probabilidad de cancelación es más alta. Este comportamiento podría estar relacionado con desafíos iniciales en la experiencia del usuario o en la propuesta de valor del servicio.\n",
    "\n",
    "Por otro lado, los clientes que permanecen parecen tener una mayor tendencia a continuar después de este período crítico, ya que la distribución de aquellos que no dan churn (no churn) es más uniforme a lo largo del tiempo. Este patrón indica que, si un cliente supera esta fase inicial, hay una mayor probabilidad de fidelización."
   ]
  },
  {
   "cell_type": "markdown",
   "id": "aa9a4e87",
   "metadata": {},
   "source": [
    "#### 7 - Tener pareja y/o dependientes impacta en el churn?"
   ]
  },
  {
   "cell_type": "code",
   "execution_count": 114,
   "id": "a3a6840f",
   "metadata": {},
   "outputs": [
    {
     "data": {
      "image/png": "[encoded data removed]",
      "text/plain": [
       "<Figure size 720x432 with 1 Axes>"
      ]
     },
     "metadata": {
      "needs_background": "light"
     },
     "output_type": "display_data"
    }
   ],
   "source": [
    "# Creando la tabla\n",
    "churn_partner_dependents = telco.groupby([\"Partner\", \"Dependents\"])[\"Churn\"].value_counts(normalize=True).unstack()\n",
    "\n",
    "# Creando el gráfico de barras apiladas\n",
    "churn_partner_dependents.plot(kind=\"bar\", stacked=True, figsize=(10,6), colormap=\"coolwarm\")\n",
    "plt.ylabel(\"Proporción (%)\")\n",
    "plt.title(\"Proporción de Churn por Estado de Pareja y Dependientes\")\n",
    "plt.xticks(rotation=0)  # Mantiene las etiquetas del eje X horizontales\n",
    "plt.legend(title=\"Churn\")\n",
    "plt.show()"
   ]
  },
  {
   "cell_type": "markdown",
   "id": "d7f15240",
   "metadata": {},
   "source": [
    "Entre los grupos analizados, los clientes que tienen pareja y dependientes presentan la menor tasa de churn (14%). Este comportamiento puede estar relacionado con una mayor estabilidad financiera o con una menor flexibilidad para cambiar de servicio. Por otro lado, los clientes que no tienen pareja ni dependientes muestran una mayor propensión al churn (34%)."
   ]
  },
  {
   "cell_type": "markdown",
   "id": "ee706b12",
   "metadata": {},
   "source": [
    "#### 8 - ¿El género y la presencia de una pareja influyen en la tasa de churn?"
   ]
  },
  {
   "cell_type": "code",
   "execution_count": 115,
   "id": "58448bb7",
   "metadata": {},
   "outputs": [
    {
     "data": {
      "image/png": "[encoded data removed]",
      "text/plain": [
       "<Figure size 576x432 with 2 Axes>"
      ]
     },
     "metadata": {
      "needs_background": "light"
     },
     "output_type": "display_data"
    }
   ],
   "source": [
    "# Convertir \"Churn\" a valores numéricos (1 = Yes, 0 = No)\n",
    "telco[\"Churn_num\"] = telco[\"Churn\"].map({\"Yes\": 1, \"No\": 0})\n",
    "\n",
    "# Crear la tabla con la tasa de churn para cada combinación de Partner y Gender\n",
    "churn_pivot = telco.pivot_table(index=\"Partner\", columns=\"gender\", values=\"Churn_num\", aggfunc=np.mean)\n",
    "\n",
    "# Crear el heatmap\n",
    "plt.figure(figsize=(8,6))\n",
    "sns.heatmap(churn_pivot, annot=True, cmap=\"coolwarm\", fmt=\".2%\", linewidths=0.5)\n",
    "\n",
    "# Ajustar las etiquetas\n",
    "plt.title(\"Tasa de Churn por Género y Estado de Pareja\")\n",
    "plt.xlabel(\"Género\")\n",
    "plt.ylabel(\"¿Tiene Pareja?\")\n",
    "plt.show()"
   ]
  },
  {
   "cell_type": "markdown",
   "id": "01f11bbd",
   "metadata": {},
   "source": [
    "Según el gráfico, **las mujeres sin pareja tienen la mayor tasa de churn (34,4%)**. Los hombres sin pareja también presentan una tasa elevada (31,5%), aunque ligeramente menor que las mujeres. Las mujeres con pareja tienen la menor tasa de churn (18,9%), y los hombres con pareja también muestran una tasa reducida (20,42%), aunque ligeramente superior a la de las mujeres.\n",
    "\n",
    "Estos resultados sugieren que tener pareja puede reducir la probabilidad de churn, especialmente en el caso de las mujeres. Las mujeres sin pareja son el grupo con mayor tasa de cancelación del servicio, lo que podría indicar que tienen necesidades o comportamientos diferentes en comparación con los otros segmentos analizados."
   ]
  },
  {
   "cell_type": "markdown",
   "id": "14980029",
   "metadata": {},
   "source": [
    "#### 9 - ¿Existe una correlación entre el tiempo de permanencia, la edad, el valor mensual pagado y el churn?"
   ]
  },
  {
   "cell_type": "code",
   "execution_count": 116,
   "id": "ea435840",
   "metadata": {},
   "outputs": [
    {
     "data": {
      "image/png": "[encoded data removed]",
      "text/plain": [
       "<Figure size 720x432 with 2 Axes>"
      ]
     },
     "metadata": {
      "needs_background": "light"
     },
     "output_type": "display_data"
    },
    {
     "name": "stdout",
     "output_type": "stream",
     "text": [
      "tenure          Churn_num         0.352229\n",
      "                MonthlyCharges    0.247900\n",
      "SeniorCitizen   MonthlyCharges    0.220173\n",
      "MonthlyCharges  Churn_num         0.193356\n",
      "SeniorCitizen   Churn_num         0.150889\n",
      "dtype: float64\n"
     ]
    }
   ],
   "source": [
    "# Calcular la matriz de correlación\n",
    "corr_matrix = telco.corr()\n",
    "\n",
    "# Crear el heatmap\n",
    "plt.figure(figsize=(10, 6))\n",
    "sns.heatmap(corr_matrix, annot=True, fmt=\".2f\", cmap=\"coolwarm\", linewidths=0.5)\n",
    "plt.title(\"Mapa de Calor de las Correlaciones Entre Variables Numéricas\")\n",
    "plt.show()\n",
    "\n",
    "# Obtener las 5 correlaciones más altas en valor absoluto\n",
    "corr_unstacked = corr_matrix.abs().unstack().sort_values(ascending=False)\n",
    "top_5_corr = corr_unstacked[corr_unstacked < 1].drop_duplicates().head(5)\n",
    "\n",
    "# Mostrar las 5 correlaciones más altas\n",
    "print(top_5_corr)"
   ]
  },
  {
   "cell_type": "markdown",
   "id": "863ad5bd",
   "metadata": {},
   "source": [
    "**Correlaciones Positivas**\n",
    "\n",
    "SeniorCitizen - MonthlyCharges: 0.22 → Los adultos mayores tienden a pagar tarifas mensuales ligeramente más altas, lo que podría indicar que contratan paquetes más completos o menos promocionales.\n",
    "\n",
    "SeniorCitizen - Churn_num: 0.15 → Los adultos mayores tienen una ligera tendencia a cancelar más en comparación con otros grupos.\n",
    "\n",
    "tenure - MonthlyCharges: 0.25 → Los clientes con mayor tiempo de permanencia pagan tarifas mensuales ligeramente más altas.\n",
    "\n",
    "MonthlyCharges - Churn_num: 0.19 → Los clientes que pagan más por mes tienen una mayor probabilidad de churn. Esto sugiere que los planes más costosos pueden estar asociados con mayor insatisfacción o dificultades de pago.\n",
    "\n",
    "**Correlaciones Negativas**\n",
    "    \n",
    "SeniorCitizen - tenure: -0.02 → Relación casi nula, lo que indica que la edad no parece influir directamente en el tiempo de permanencia del cliente.\n",
    "\n",
    "tenure - Churn_num: -0.35 → A mayor tiempo de permanencia, menor probabilidad de churn. Esto tiene sentido, ya que los clientes que han estado más tiempo en el servicio probablemente han encontrado valor en él y tienen menos incentivos para cancelarlo.\n"
   ]
  },
  {
   "cell_type": "markdown",
   "id": "be90fb38",
   "metadata": {},
   "source": [
    "### Resultados e Perspectivas para la Reducción del Churn"
   ]
  },
  {
   "cell_type": "markdown",
   "id": "a05dbb4e",
   "metadata": {},
   "source": [
    "* El análisis revela que los clientes con mayor gasto mensual son más propensos al churn. Se recomienda ofrecer descuentos progresivos o beneficios exclusivos para clientes con planes más costosos, así como crear un programa de fidelización para clientes premium, incentivando la retención.\n",
    "\n",
    "\n",
    "* El churn ocurre principalmente en los primeros meses, lo que indica un período crítico en el que la probabilidad de cancelación es mayor. Este comportamiento puede estar relacionado con desafíos iniciales en la experiencia del usuario o con la propuesta de valor del servicio. Para mitigar este problema, es clave mejorar la experiencia en los primeros meses, alinear expectativas en el proceso de venta para evitar frustraciones e implementar encuestas de satisfacción.\n",
    "\n",
    "\n",
    "* Es recomendable diseñar planes, ofertas personalizadas y beneficios adicionales para determinados grupos con mayor tasa de churn, como personas mayores, clientes sin pareja ni dependientes y mujeres sin pareja. Además, se sugiere investigar las razones específicas que llevan a estos grupos a cancelar el servicio.\n",
    "\n",
    "\n",
    "* Los clientes antiguos tienden a permanecer más tiempo y presentan una menor probabilidad de cancelar. Por ello, la creación de programas de fidelización y recompensas, junto con la mejora continua de la experiencia del cliente, puede aumentar la satisfacción y reducir las cancelaciones.\n",
    "\n",
    "\n",
    "* Informar a los usuarios sobre métodos de pago más convenientes y seguros, como las tarjetas de crédito (ya que, al ser automáticos, reducen la probabilidad de errores en los cobros), ofrecer beneficios a quienes cambien a pagos automáticos, mejorar el soporte y optimizar el proceso de pago mediante Electronic Check para reducir fallos.\n",
    "\n",
    "\n",
    "* Además de las recomendaciones anteriores, es fundamental recopilar comentarios constantes de los clientes para identificar los principales factores que impulsan el churn y mejorar las estrategias de retención."
   ]
  },
  {
   "cell_type": "markdown",
   "id": "204c684a",
   "metadata": {},
   "source": [
    "### Conclusión"
   ]
  },
  {
   "cell_type": "markdown",
   "id": "5d4c9e37",
   "metadata": {},
   "source": [
    "Este proyecto tuvo como objetivo analizar el perfil de los clientes e identificar los principales factores asociados al churn, generando insights estratégicos para reducir cancelaciones y aumentar la retención. Monitorear la tasa de churn es fundamental para comprender la salud del negocio, orientar decisiones estratégicas y mejorar la experiencia del cliente.\n",
    "\n",
    "Además de las recomendaciones basadas en el análisis descriptivo, un próximo paso será la aplicación de técnicas de machine learning para predecir la probabilidad de churn. Esto permitirá implementar acciones preventivas más precisas, como ofertas personalizadas, campañas de fidelización y mejoras enfocadas en la experiencia del cliente. Este avance no solo contribuirá a la retención de clientes, sino que también demostrará la aplicación práctica de técnicas analíticas más avanzadas, reforzando mi aprendizaje continuo en el área de Data Science."
   ]
  },
  {
   "cell_type": "markdown",
   "id": "01ceea46",
   "metadata": {},
   "source": [
    "**Agradezco que hayas dedicado tu tiempo a leer mi proyecto. Quedo a disposición para recibir comentarios y sugerencias.**"
   ]
  }
 ],
 "metadata": {
  "kernelspec": {
   "display_name": "Python 3 (ipykernel)",
   "language": "python",
   "name": "python3"
  },
  "language_info": {
   "codemirror_mode": {
    "name": "ipython",
    "version": 3
   },
   "file_extension": ".py",
   "mimetype": "text/x-python",
   "name": "python",
   "nbconvert_exporter": "python",
   "pygments_lexer": "ipython3",
   "version": "3.9.12"
  }
 },
 "nbformat": 4,
 "nbformat_minor": 5
}
